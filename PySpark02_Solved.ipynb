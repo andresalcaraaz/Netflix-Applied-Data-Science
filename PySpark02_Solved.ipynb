{
  "nbformat": 4,
  "nbformat_minor": 0,
  "metadata": {
    "colab": {
      "name": "PySpark02.ipynb",
      "provenance": [],
      "collapsed_sections": [],
      "authorship_tag": "ABX9TyP+BB5M88SVaseI2uxZt4Yj",
      "include_colab_link": true
    },
    "kernelspec": {
      "name": "python3",
      "display_name": "Python 3"
    },
    "language_info": {
      "name": "python"
    }
  },
  "cells": [
    {
      "cell_type": "markdown",
      "metadata": {
        "id": "view-in-github",
        "colab_type": "text"
      },
      "source": [
        "<a href=\"https://colab.research.google.com/github/andresalcaraaz/Netflix-Applied-Data-Science/blob/master/PySpark02_Solved.ipynb\" target=\"_parent\"><img src=\"https://colab.research.google.com/assets/colab-badge.svg\" alt=\"Open In Colab\"/></a>"
      ]
    },
    {
      "cell_type": "code",
      "metadata": {
        "colab": {
          "base_uri": "https://localhost:8080/"
        },
        "id": "Jfq58AXlWJTy",
        "outputId": "94196fa0-d4d1-4232-bb48-8a4f7a85d2db"
      },
      "source": [
        "# activate Spark in our Colab notebook.\n",
        "import os\n",
        "# Find the latest version of spark 3.0  from http://www-us.apache.org/dist/spark/ and enter as the spark version\n",
        "# For example:\n",
        "spark_version = 'spark-3.0.2'\n",
        "# spark_version = 'spark-3.<enter version>'\n",
        "os.environ['SPARK_VERSION']=spark_version\n",
        "\n",
        "# Install Spark and Java\n",
        "!apt-get update\n",
        "!apt-get install openjdk-11-jdk-headless -qq > /dev/null\n",
        "!wget -q http://www-us.apache.org/dist/spark/$SPARK_VERSION/$SPARK_VERSION-bin-hadoop2.7.tgz\n",
        "!tar xf $SPARK_VERSION-bin-hadoop2.7.tgz\n",
        "!pip install -q findspark\n",
        "\n",
        "# Set Environment Variables\n",
        "os.environ[\"JAVA_HOME\"] = \"/usr/lib/jvm/java-11-openjdk-amd64\"\n",
        "os.environ[\"SPARK_HOME\"] = f\"/content/{spark_version}-bin-hadoop2.7\"\n",
        "\n",
        "# Start a SparkSession\n",
        "import findspark\n",
        "findspark.init()"
      ],
      "execution_count": null,
      "outputs": [
        {
          "output_type": "stream",
          "text": [
            "\r0% [Working]\r            \rGet:1 https://cloud.r-project.org/bin/linux/ubuntu bionic-cran40/ InRelease [3,626 B]\n",
            "\r0% [Connecting to archive.ubuntu.com] [Connecting to security.ubuntu.com (91.18\r                                                                               \rIgn:2 https://developer.download.nvidia.com/compute/cuda/repos/ubuntu1804/x86_64  InRelease\n",
            "\r0% [Connecting to archive.ubuntu.com] [Connecting to security.ubuntu.com (91.18\r0% [Connecting to archive.ubuntu.com] [Connecting to security.ubuntu.com (91.18\r                                                                               \rIgn:3 https://developer.download.nvidia.com/compute/machine-learning/repos/ubuntu1804/x86_64  InRelease\n",
            "\r0% [Connecting to archive.ubuntu.com] [Connecting to security.ubuntu.com (91.18\r0% [1 InRelease gpgv 3,626 B] [Connecting to archive.ubuntu.com] [Connecting to\r                                                                               \rGet:4 https://developer.download.nvidia.com/compute/cuda/repos/ubuntu1804/x86_64  Release [697 B]\n",
            "\r0% [1 InRelease gpgv 3,626 B] [Connecting to archive.ubuntu.com] [Connecting to\r                                                                               \rHit:5 https://developer.download.nvidia.com/compute/machine-learning/repos/ubuntu1804/x86_64  Release\n",
            "Get:6 https://developer.download.nvidia.com/compute/cuda/repos/ubuntu1804/x86_64  Release.gpg [836 B]\n",
            "Get:7 https://cloud.r-project.org/bin/linux/ubuntu bionic-cran40/ Packages [53.1 kB]\n",
            "Get:8 http://ppa.launchpad.net/c2d4u.team/c2d4u4.0+/ubuntu bionic InRelease [15.9 kB]\n",
            "Hit:9 http://archive.ubuntu.com/ubuntu bionic InRelease\n",
            "Get:11 http://archive.ubuntu.com/ubuntu bionic-updates InRelease [88.7 kB]\n",
            "Hit:12 http://ppa.launchpad.net/cran/libgit2/ubuntu bionic InRelease\n",
            "Ign:13 https://developer.download.nvidia.com/compute/cuda/repos/ubuntu1804/x86_64  Packages\n",
            "Get:13 https://developer.download.nvidia.com/compute/cuda/repos/ubuntu1804/x86_64  Packages [742 kB]\n",
            "Get:14 http://archive.ubuntu.com/ubuntu bionic-backports InRelease [74.6 kB]\n",
            "Hit:15 http://ppa.launchpad.net/deadsnakes/ppa/ubuntu bionic InRelease\n",
            "Hit:16 http://ppa.launchpad.net/graphics-drivers/ppa/ubuntu bionic InRelease\n",
            "Get:17 http://ppa.launchpad.net/c2d4u.team/c2d4u4.0+/ubuntu bionic/main Sources [1,757 kB]\n",
            "Get:18 http://archive.ubuntu.com/ubuntu bionic-updates/main amd64 Packages [2,546 kB]\n",
            "Get:19 http://security.ubuntu.com/ubuntu bionic-security InRelease [88.7 kB]\n",
            "Get:20 http://archive.ubuntu.com/ubuntu bionic-updates/universe amd64 Packages [2,182 kB]\n",
            "Get:21 http://archive.ubuntu.com/ubuntu bionic-updates/multiverse amd64 Packages [31.6 kB]\n",
            "Get:22 http://archive.ubuntu.com/ubuntu bionic-updates/restricted amd64 Packages [426 kB]\n",
            "Get:23 http://ppa.launchpad.net/c2d4u.team/c2d4u4.0+/ubuntu bionic/main amd64 Packages [899 kB]\n",
            "Get:24 http://security.ubuntu.com/ubuntu bionic-security/restricted amd64 Packages [396 kB]\n",
            "Get:25 http://security.ubuntu.com/ubuntu bionic-security/main amd64 Packages [2,116 kB]\n",
            "Get:26 http://security.ubuntu.com/ubuntu bionic-security/universe amd64 Packages [1,410 kB]\n",
            "Get:27 http://security.ubuntu.com/ubuntu bionic-security/multiverse amd64 Packages [24.7 kB]\n",
            "Fetched 12.9 MB in 12s (1,042 kB/s)\n",
            "Reading package lists... Done\n"
          ],
          "name": "stdout"
        }
      ]
    },
    {
      "cell_type": "code",
      "metadata": {
        "id": "oJLhO-OkWlgi"
      },
      "source": [
        "#import packages\n",
        "\n",
        "from pyspark.sql import SparkSession\n",
        "from pyspark.sql import Row\n",
        "from pyspark.sql.types import StructType,StructField,StringType, DateType,IntegerType\n",
        "import pandas as pd\n",
        "\n",
        "# we are going to use this to time our queries.\n",
        "import time\n",
        "\n",
        "# Create a SparkSession\n",
        "spark = SparkSession.builder.appName(\"SparkSQL\").getOrCreate()"
      ],
      "execution_count": null,
      "outputs": []
    },
    {
      "cell_type": "code",
      "metadata": {
        "id": "NJgzqpE6W3nS"
      },
      "source": [
        "# Read in data from S3 Bucket\n",
        "from pyspark import SparkFiles\n",
        "url = \"https://2u-data-curriculum-team.s3.amazonaws.com/dataviz-netflix/DelayedFlights.csv\"\n",
        "spark.sparkContext.addFile(url)\n",
        "df = spark.read.csv(SparkFiles.get(\"DelayedFlights.csv\"), sep=\",\", header=True)\n",
        "url_cities='https://2u-data-curriculum-team.s3.amazonaws.com/dataviz-netflix/cities500.txt'\n",
        "spark.sparkContext.addFile(url_cities)\n",
        "df_lookup_geo = spark.read.csv(SparkFiles.get(\"cities500.txt\"), sep=\"\\t\", header=True)\n",
        "\n",
        "# we are going to do a lookup here as well so upload the airportCodes.csv file from you Resources directory \n",
        "df_lookup_city_name=spark.read.csv('/content/airportCodes.csv', sep=',', header=True)"
      ],
      "execution_count": null,
      "outputs": []
    },
    {
      "cell_type": "code",
      "metadata": {
        "id": "5q4Bbz7TbpH8"
      },
      "source": [
        "#Create temporary views for each of our dataframes\n",
        "# We are going to filter the data to US only as we create the Temp Views.\n",
        "\n",
        "df.createOrReplaceTempView('delayed')\n",
        "df_lookup_city_name.createOrReplaceTempView('lookup_city')\n",
        "df_lookup_geo.createOrReplaceTempView('lookup_geo')"
      ],
      "execution_count": null,
      "outputs": []
    },
    {
      "cell_type": "code",
      "metadata": {
        "colab": {
          "base_uri": "https://localhost:8080/"
        },
        "id": "X63M2jK0Zs01",
        "outputId": "cd45634f-3867-42e5-8be4-10733d222b50"
      },
      "source": [
        "df.show()"
      ],
      "execution_count": null,
      "outputs": [
        {
          "output_type": "stream",
          "text": [
            "+---+----+-----+----------+---------+-------+----------+-------+----------+-------------+---------+-------+-----------------+--------------+-------+--------+--------+------+----+--------+------+-------+---------+----------------+--------+------------+------------+--------+-------------+-----------------+\n",
            "|_c0|Year|Month|DayofMonth|DayOfWeek|DepTime|CRSDepTime|ArrTime|CRSArrTime|UniqueCarrier|FlightNum|TailNum|ActualElapsedTime|CRSElapsedTime|AirTime|ArrDelay|DepDelay|Origin|Dest|Distance|TaxiIn|TaxiOut|Cancelled|CancellationCode|Diverted|CarrierDelay|WeatherDelay|NASDelay|SecurityDelay|LateAircraftDelay|\n",
            "+---+----+-----+----------+---------+-------+----------+-------+----------+-------------+---------+-------+-----------------+--------------+-------+--------+--------+------+----+--------+------+-------+---------+----------------+--------+------------+------------+--------+-------------+-----------------+\n",
            "|  0|2008|    1|         3|        4| 2003.0|      1955| 2211.0|      2225|           WN|      335| N712SW|            128.0|         150.0|  116.0|   -14.0|     8.0|   IAD| TPA|     810|   4.0|    8.0|        0|               N|       0|        null|        null|    null|         null|             null|\n",
            "|  1|2008|    1|         3|        4|  754.0|       735| 1002.0|      1000|           WN|     3231| N772SW|            128.0|         145.0|  113.0|     2.0|    19.0|   IAD| TPA|     810|   5.0|   10.0|        0|               N|       0|        null|        null|    null|         null|             null|\n",
            "|  2|2008|    1|         3|        4|  628.0|       620|  804.0|       750|           WN|      448| N428WN|             96.0|          90.0|   76.0|    14.0|     8.0|   IND| BWI|     515|   3.0|   17.0|        0|               N|       0|        null|        null|    null|         null|             null|\n",
            "|  4|2008|    1|         3|        4| 1829.0|      1755| 1959.0|      1925|           WN|     3920| N464WN|             90.0|          90.0|   77.0|    34.0|    34.0|   IND| BWI|     515|   3.0|   10.0|        0|               N|       0|         2.0|         0.0|     0.0|          0.0|             32.0|\n",
            "|  5|2008|    1|         3|        4| 1940.0|      1915| 2121.0|      2110|           WN|      378| N726SW|            101.0|         115.0|   87.0|    11.0|    25.0|   IND| JAX|     688|   4.0|   10.0|        0|               N|       0|        null|        null|    null|         null|             null|\n",
            "|  6|2008|    1|         3|        4| 1937.0|      1830| 2037.0|      1940|           WN|      509| N763SW|            240.0|         250.0|  230.0|    57.0|    67.0|   IND| LAS|    1591|   3.0|    7.0|        0|               N|       0|        10.0|         0.0|     0.0|          0.0|             47.0|\n",
            "| 10|2008|    1|         3|        4|  706.0|       700|  916.0|       915|           WN|      100| N690SW|            130.0|         135.0|  106.0|     1.0|     6.0|   IND| MCO|     828|   5.0|   19.0|        0|               N|       0|        null|        null|    null|         null|             null|\n",
            "| 11|2008|    1|         3|        4| 1644.0|      1510| 1845.0|      1725|           WN|     1333| N334SW|            121.0|         135.0|  107.0|    80.0|    94.0|   IND| MCO|     828|   6.0|    8.0|        0|               N|       0|         8.0|         0.0|     0.0|          0.0|             72.0|\n",
            "| 15|2008|    1|         3|        4| 1029.0|      1020| 1021.0|      1010|           WN|     2272| N263WN|             52.0|          50.0|   37.0|    11.0|     9.0|   IND| MDW|     162|   6.0|    9.0|        0|               N|       0|        null|        null|    null|         null|             null|\n",
            "| 16|2008|    1|         3|        4| 1452.0|      1425| 1640.0|      1625|           WN|      675| N286WN|            228.0|         240.0|  213.0|    15.0|    27.0|   IND| PHX|    1489|   7.0|    8.0|        0|               N|       0|         3.0|         0.0|     0.0|          0.0|             12.0|\n",
            "| 17|2008|    1|         3|        4|  754.0|       745|  940.0|       955|           WN|     1144| N778SW|            226.0|         250.0|  205.0|   -15.0|     9.0|   IND| PHX|    1489|   5.0|   16.0|        0|               N|       0|        null|        null|    null|         null|             null|\n",
            "| 18|2008|    1|         3|        4| 1323.0|      1255| 1526.0|      1510|           WN|        4| N674AA|            123.0|         135.0|  110.0|    16.0|    28.0|   IND| TPA|     838|   4.0|    9.0|        0|               N|       0|         0.0|         0.0|     0.0|          0.0|             16.0|\n",
            "| 19|2008|    1|         3|        4| 1416.0|      1325| 1512.0|      1435|           WN|       54| N643SW|             56.0|          70.0|   49.0|    37.0|    51.0|   ISP| BWI|     220|   2.0|    5.0|        0|               N|       0|        12.0|         0.0|     0.0|          0.0|             25.0|\n",
            "| 21|2008|    1|         3|        4| 1657.0|      1625| 1754.0|      1735|           WN|      623| N724SW|             57.0|          70.0|   47.0|    19.0|    32.0|   ISP| BWI|     220|   5.0|    5.0|        0|               N|       0|         7.0|         0.0|     0.0|          0.0|             12.0|\n",
            "| 22|2008|    1|         3|        4| 1900.0|      1840| 1956.0|      1950|           WN|      717| N786SW|             56.0|          70.0|   49.0|     6.0|    20.0|   ISP| BWI|     220|   2.0|    5.0|        0|               N|       0|        null|        null|    null|         null|             null|\n",
            "| 23|2008|    1|         3|        4| 1039.0|      1030| 1133.0|      1140|           WN|     1244| N714CB|             54.0|          70.0|   47.0|    -7.0|     9.0|   ISP| BWI|     220|   2.0|    5.0|        0|               N|       0|        null|        null|    null|         null|             null|\n",
            "| 25|2008|    1|         3|        4| 1520.0|      1455| 1619.0|      1605|           WN|     2553| N394SW|             59.0|          70.0|   50.0|    14.0|    25.0|   ISP| BWI|     220|   2.0|    7.0|        0|               N|       0|        null|        null|    null|         null|             null|\n",
            "| 26|2008|    1|         3|        4| 1422.0|      1255| 1657.0|      1610|           WN|      188| N215WN|            155.0|         195.0|  143.0|    47.0|    87.0|   ISP| FLL|    1093|   6.0|    6.0|        0|               N|       0|        40.0|         0.0|     0.0|          0.0|              7.0|\n",
            "| 27|2008|    1|         3|        4| 1954.0|      1925| 2239.0|      2235|           WN|     1754| N243WN|            165.0|         190.0|  155.0|     4.0|    29.0|   ISP| FLL|    1093|   3.0|    7.0|        0|               N|       0|        null|        null|    null|         null|             null|\n",
            "| 30|2008|    1|         3|        4| 2107.0|      1945| 2334.0|      2230|           WN|      362| N798SW|            147.0|         165.0|  134.0|    64.0|    82.0|   ISP| MCO|     972|   6.0|    7.0|        0|               N|       0|         5.0|         0.0|     0.0|          0.0|             59.0|\n",
            "+---+----+-----+----------+---------+-------+----------+-------+----------+-------------+---------+-------+-----------------+--------------+-------+--------+--------+------+----+--------+------+-------+---------+----------------+--------+------------+------------+--------+-------------+-----------------+\n",
            "only showing top 20 rows\n",
            "\n"
          ],
          "name": "stdout"
        }
      ]
    },
    {
      "cell_type": "code",
      "metadata": {
        "colab": {
          "base_uri": "https://localhost:8080/"
        },
        "id": "fL1fuUl7Zwxm",
        "outputId": "0b148fd8-1c61-40d6-e109-91ae42791640"
      },
      "source": [
        "df_lookup_geo.show()"
      ],
      "execution_count": null,
      "outputs": [
        {
          "output_type": "stream",
          "text": [
            "+---------+-------------------+-------------------+--------------------+--------+---------+-------------+------------+------------+----+-----------+-----------+-----------+-----------+----------+---------+----+--------------+-----------------+\n",
            "|geonameid|               name|          asciiname|      alternatenames|latitude|longitude|feature_class|feature_code|country_code| cc2|admin1_code|admin2_code|admin3_code|admin4_code|population|elevation| dem|      timezone|modification_date|\n",
            "+---------+-------------------+-------------------+--------------------+--------+---------+-------------+------------+------------+----+-----------+-----------+-----------+-----------+----------+---------+----+--------------+-----------------+\n",
            "|  3038999|             Soldeu|             Soldeu|                null|42.57688|  1.66769|            P|         PPL|          AD|null|         02|       null|       null|       null|       602|     null|1832|Europe/Andorra|       2017-11-06|\n",
            "|  3039154|          El Tarter|          El Tarter|Ehl Tarter,Эл Тартер|42.57952|  1.65362|            P|         PPL|          AD|null|         02|       null|       null|       null|      1052|     null|1721|Europe/Andorra|       2012-11-03|\n",
            "|  3039163|Sant Julià de Lòria|Sant Julia de Loria|San Julia,San Jul...|42.46372|  1.49129|            P|        PPLA|          AD|null|         06|       null|       null|       null|      8022|     null| 921|Europe/Andorra|       2013-11-23|\n",
            "|  3039604|     Pas de la Casa|     Pas de la Casa|Pas de la Kasa,Па...|42.54277|  1.73361|            P|         PPL|          AD|null|         03|       null|       null|       null|      2363|     2050|2106|Europe/Andorra|       2008-06-09|\n",
            "|  3039678|             Ordino|             Ordino|Ordino,ao er di n...|42.55623|  1.53319|            P|        PPLA|          AD|null|         05|       null|       null|       null|      3066|     null|1296|Europe/Andorra|       2018-10-26|\n",
            "|  3040051|       les Escaldes|       les Escaldes|Ehskal'des-Ehndzh...|42.50729|  1.53414|            P|        PPLA|          AD|null|         08|       null|       null|       null|     15853|     null|1033|Europe/Andorra|       2008-10-15|\n",
            "|  3040132|         la Massana|         la Massana|La Macana,La Mass...|42.54499|  1.51483|            P|        PPLA|          AD|null|         04|       null|       null|       null|      7211|     null|1245|Europe/Andorra|       2008-10-15|\n",
            "|  3040141|           l'Aldosa|           l'Aldosa|                null|42.54391|  1.52289|            P|         PPL|          AD|null|         04|       null|       null|       null|       594|     null|1296|Europe/Andorra|       2007-04-29|\n",
            "|  3040686|             Encamp|             Encamp|Ehnkam,Encamp,en ...|42.53474|  1.58014|            P|        PPLA|          AD|null|         03|       null|       null|       null|     11223|     null|1257|Europe/Andorra|       2018-10-26|\n",
            "|  3041204|            Canillo|            Canillo|Canillo,Kanil'o,k...| 42.5676|  1.59756|            P|        PPLA|          AD|null|         02|       null|       null|       null|      3292|     null|1561|Europe/Andorra|       2018-10-26|\n",
            "|  3041519|            Arinsal|            Arinsal|Arinsal,Arinsal',...|42.57205|  1.48453|            P|         PPL|          AD|null|         04|       null|       null|       null|      1419|     null|1465|Europe/Andorra|       2010-01-29|\n",
            "|  3041563|   Andorra la Vella|   Andorra la Vella|ALV,Ando-la-Vyey,...|42.50779|  1.52109|            P|        PPLC|          AD|null|         07|       null|       null|       null|     20430|     null|1037|Europe/Andorra|       2020-03-03|\n",
            "|   290594| Umm Al Quwain City| Umm Al Quwain City|Oumm al Qaiwain,O...|25.56473| 55.55517|            P|        PPLA|          AE|null|         07|       null|       null|       null|     62747|     null|   2|    Asia/Dubai|       2019-10-24|\n",
            "|   291074|Ras Al Khaimah City|Ras Al Khaimah City|Julfa,Khaimah,RAK...|25.78953|  55.9432|            P|        PPLA|          AE|null|         05|       null|       null|       null|    351943|     null|   2|    Asia/Dubai|       2019-09-09|\n",
            "|   291279|           Muzayri‘|           Muzayri`|Mezaira'a,Mezaira...|23.14355|  53.7881|            P|         PPL|          AE|null|         01|       null|       null|       null|     10000|     null| 123|    Asia/Dubai|       2013-10-24|\n",
            "|   291339|             Murbaḩ|             Murbah|Marbah,Mirba,Mirb...|25.27623| 56.36256|            P|         PPL|          AE|null|         06|       null|       null|       null|      2000|     null|  15|    Asia/Dubai|       2020-06-10|\n",
            "|   291580|         Zayed City|         Zayed City|Bid' Zayed,Bid’ Z...|23.65416| 53.70522|            P|         PPL|          AE|null|         01|        103|       null|       null|     63482|     null| 124|    Asia/Dubai|       2019-10-24|\n",
            "|   291696|       Khawr Fakkān|       Khawr Fakkan|Fakkan,Fakkān,Kha...|25.33132| 56.34199|            P|         PPL|          AE|null|         06|       null|       null|       null|     40677|     null|  20|    Asia/Dubai|       2020-06-10|\n",
            "|   292223|              Dubai|              Dubai|DXB,Dabei,Dibai,D...|25.07725| 55.30927|            P|        PPLA|          AE|null|         03|       null|       null|       null|   2956587|     null|  24|    Asia/Dubai|       2019-08-28|\n",
            "|   292231|  Dibba Al-Fujairah|  Dibba Al-Fujairah|Al-Fujairah,BYB,D...|25.59246| 56.26176|            P|         PPL|          AE|null|         04|       null|       null|       null|     30000|     null|  16|    Asia/Dubai|       2014-08-12|\n",
            "+---------+-------------------+-------------------+--------------------+--------+---------+-------------+------------+------------+----+-----------+-----------+-----------+-----------+----------+---------+----+--------------+-----------------+\n",
            "only showing top 20 rows\n",
            "\n"
          ],
          "name": "stdout"
        }
      ]
    },
    {
      "cell_type": "code",
      "metadata": {
        "colab": {
          "base_uri": "https://localhost:8080/"
        },
        "id": "7ggMY8T5ZyWs",
        "outputId": "d7c8aa70-df2c-48f8-d8f5-30c61446c0a9"
      },
      "source": [
        "df_lookup_city_name.show()\n"
      ],
      "execution_count": null,
      "outputs": [
        {
          "output_type": "stream",
          "text": [
            "+--------------+--------------------+-----------+\n",
            "|          City|             country|airportCode|\n",
            "+--------------+--------------------+-----------+\n",
            "|       Aalborg|             Denmark|        AAL|\n",
            "|      Aalesund|              Norway|        AES|\n",
            "|        Aarhus|             Denmark|        AAR|\n",
            "|Abbotsford, BC|              Canada|        YXX|\n",
            "|Abbotsford, BC|              Canada|        YXX|\n",
            "|      Aberdeen|            Scotland|        ABZ|\n",
            "|  Aberdeen, SD|                 USA|        ABR|\n",
            "|       Abidjan|         Ivory Coast|        ABJ|\n",
            "|   Abilene, TX|                 USA|        ABI|\n",
            "|     Abu Dhabi|United Arab Emirates|        AUH|\n",
            "|         Abuja|             Nigeria|        ABV|\n",
            "|      Acapulco|              Mexico|        ACA|\n",
            "|         Accra|               Ghana|        ACC|\n",
            "|         Adana|              Turkey|        ADA|\n",
            "|   Addis Ababa|            Ethiopia|        ADD|\n",
            "|Adelaide, S.A.|           Australia|        ADL|\n",
            "|          Aden|               Yemen|        ADE|\n",
            "|      Adiyaman|              Turkey|        ADF|\n",
            "|        Agadir|             Morocco|        AGA|\n",
            "|         Agana|                Guam|        GUM|\n",
            "+--------------+--------------------+-----------+\n",
            "only showing top 20 rows\n",
            "\n"
          ],
          "name": "stdout"
        }
      ]
    },
    {
      "cell_type": "code",
      "metadata": {
        "id": "m_nCbVRgW6cU"
      },
      "source": [
        "#Create temporary views for each of our dataframes\n",
        "# We are going to filter the data to US only as we create the Temp Views.\n",
        "\n",
        "df.createOrReplaceTempView('delayed')\n",
        "df_lookup_city_name.createOrReplaceTempView('lookup_city')\n",
        "df_lookup_geo.createOrReplaceTempView('lookup_geo')"
      ],
      "execution_count": null,
      "outputs": []
    },
    {
      "cell_type": "code",
      "metadata": {
        "id": "ncIcuKKni14w"
      },
      "source": [
        "\n"
      ],
      "execution_count": null,
      "outputs": []
    },
    {
      "cell_type": "code",
      "metadata": {
        "colab": {
          "base_uri": "https://localhost:8080/"
        },
        "id": "AklmfmIIXGMB",
        "outputId": "37626327-d0b2-47aa-baff-ea3b21c4b29c"
      },
      "source": [
        "# Here is the  initial query presented to you for optimization\n",
        "# Note the runtime\n",
        "start_time = time.time()\n",
        "\n",
        "spark.sql(\"\"\"\n",
        "with allColumns\n",
        "(select \n",
        "a.Year,\n",
        "a.Month,\n",
        "a.DayofMonth,\n",
        "a.DayOfWeek,\n",
        "a.DepTime,\n",
        "a.CRSDepTime,\n",
        "a.ArrTime,\n",
        "a.CRSArrTime,\n",
        "a.UniqueCarrier,\n",
        "a.FlightNum,\n",
        "a.TailNum,\n",
        "a.ActualElapsedTime,\n",
        "a.CRSElapsedTime,\n",
        "a.AirTime,\n",
        "a.ArrDelay,\n",
        "a.DepDelay,\n",
        "a.Origin,\n",
        "b.City as Origin_City,\n",
        "geo.latitude as Origin_latitude,\n",
        "geo.longitude as Origin_longitude,\n",
        "a.Dest,\n",
        "c.City as Dest_City,\n",
        "geo_dest.latitude as Dest_latitude,\n",
        "geo_dest.longitude as Dest_longitude,\n",
        "a.Distance,\n",
        "a.TaxiIn,\n",
        "a.TaxiOut,\n",
        "a.Cancelled,\n",
        "a.CancellationCode,\n",
        "a.Diverted,\n",
        "a.CarrierDelay,\n",
        "a.WeatherDelay,\n",
        "a.NASDelay,\n",
        "a.SecurityDelay,\n",
        "a.LateAircraftDelay from  delayed a \n",
        "  inner join lookup_city b\n",
        "    on a.Origin=b.airportCode\n",
        "  inner join lookup_city c\n",
        "    on a.Dest=c.airportCode\n",
        "  inner join lookup_geo geo\n",
        "on split(b.City,',')[0]=geo.name\n",
        "     and trim(split(b.City,',')[1])=geo.admin1_code\n",
        "  inner join lookup_geo geo_dest\n",
        "    on c.City=concat(geo_dest.name,', ',geo_dest.admin1_code)\n",
        ")\n",
        "select Origin, UniqueCarrier, Origin_City, Origin_latitude, Origin_Longitude, Dest_latitude, Dest_longitude, max(DepDelay) as delayed, avg(CarrierDelay) avgCarrierDelay \n",
        "from allColumns \n",
        "group by Origin, UniqueCarrier, Origin_City, Origin_latitude, Origin_Longitude, Dest_latitude, Dest_longitude\n",
        "\"\"\").show()\n",
        "\n",
        "print(\"--- %s seconds ---\" % (time.time() - start_time))"
      ],
      "execution_count": null,
      "outputs": [
        {
          "output_type": "stream",
          "text": [
            "+------+-------------+---------------+---------------+----------------+-------------+--------------+-------+------------------+\n",
            "|Origin|UniqueCarrier|    Origin_City|Origin_latitude|Origin_Longitude|Dest_latitude|Dest_longitude|delayed|   avgCarrierDelay|\n",
            "+------+-------------+---------------+---------------+----------------+-------------+--------------+-------+------------------+\n",
            "|   ATL|           EV|    Atlanta, GA|         33.749|       -84.38798|     31.31129|     -92.44514|   99.0| 28.81025641025641|\n",
            "|   ABQ|           DL|Albuquerque, NM|       35.08449|      -106.65114|       33.749|     -84.38798|   99.0|40.401869158878505|\n",
            "|   ATW|           EV|   Appleton, WI|       44.26193|       -88.41538|       33.749|     -84.38798|   99.0|30.546666666666667|\n",
            "|   BWI|           WN|  Baltimore, MD|       39.29038|       -76.61219|     30.26715|     -97.74306|   95.0|12.741935483870968|\n",
            "|   CAK|           EV|      Akron, OH|       41.08144|       -81.51901|       33.749|     -84.38798|   99.0|28.156941649899398|\n",
            "|   ATL|           OH|    Atlanta, GA|         33.749|       -84.38798|     30.26715|     -97.74306|   97.0| 40.42245989304813|\n",
            "|   CAK|           FL|      Akron, OH|       41.08144|       -81.51901|     42.35843|     -71.05977|   99.0|  2.63302752293578|\n",
            "|   AEX|           EV| Alexandria, LA|       31.31129|       -92.44514|       33.749|     -84.38798|   96.0|27.155778894472363|\n",
            "|   BMI|           FL|Bloomington, IL|        40.4842|       -88.99369|       33.749|     -84.38798|   98.0| 8.437158469945356|\n",
            "|   BOS|           OH|     Boston, MA|       42.35843|       -71.05977|     44.80118|     -68.77781|   95.0|18.462311557788944|\n",
            "|   ATL|           EV|    Atlanta, GA|         33.749|       -84.38798|     41.08144|     -81.51901|   99.0| 30.99437148217636|\n",
            "|   CAK|           DL|      Akron, OH|       41.08144|       -81.51901|       33.749|     -84.38798|    9.0| 27.91304347826087|\n",
            "|   ATL|           FL|    Atlanta, GA|         33.749|       -84.38798|     41.08144|     -81.51901|   99.0| 12.44890510948905|\n",
            "|   BOS|           FL|     Boston, MA|       42.35843|       -71.05977|     41.08144|     -81.51901|   99.0|1.0092592592592593|\n",
            "|   BHM|           EV| Birmingham, AL|       33.52066|       -86.80249|       33.749|     -84.38798|   96.0| 17.04794520547945|\n",
            "|   ATL|           DL|    Atlanta, GA|         33.749|       -84.38798|     35.08449|    -106.65114|   98.0|20.948275862068964|\n",
            "|   BRW|           AS|     Barrow, AK|       71.29058|      -156.78872|     61.21806|    -149.90028|   97.0| 4.483516483516484|\n",
            "|   ATL|           OO|    Atlanta, GA|         33.749|       -84.38798|     30.26715|     -97.74306|    6.0|              19.0|\n",
            "|   ASE|           OO|      Aspen, CO|        39.1911|      -106.81754|       33.749|     -84.38798|   82.0|               6.0|\n",
            "|   BWI|           EV|  Baltimore, MD|       39.29038|       -76.61219|       33.749|     -84.38798|   93.0|              15.5|\n",
            "+------+-------------+---------------+---------------+----------------+-------------+--------------+-------+------------------+\n",
            "only showing top 20 rows\n",
            "\n",
            "--- 10.641211986541748 seconds ---\n"
          ],
          "name": "stdout"
        }
      ]
    },
    {
      "cell_type": "code",
      "metadata": {
        "id": "oG3mqfv_XKIw"
      },
      "source": [
        "df1 = spark.sql(\"\"\"\n",
        "with allColumns\n",
        "(select \n",
        "a.Year,\n",
        "a.Month,\n",
        "a.DayofMonth,\n",
        "a.DayOfWeek,\n",
        "a.DepTime,\n",
        "a.CRSDepTime,\n",
        "a.ArrTime,\n",
        "a.CRSArrTime,\n",
        "a.UniqueCarrier,\n",
        "a.FlightNum,\n",
        "a.TailNum,\n",
        "a.ActualElapsedTime,\n",
        "a.CRSElapsedTime,\n",
        "a.AirTime,\n",
        "a.ArrDelay,\n",
        "a.DepDelay,\n",
        "a.Origin,\n",
        "b.City as Origin_City,\n",
        "geo.latitude as Origin_latitude,\n",
        "geo.longitude as Origin_longitude,\n",
        "a.Dest,\n",
        "c.City as Dest_City,\n",
        "geo_dest.latitude as Dest_latitude,\n",
        "geo_dest.longitude as Dest_longitude,\n",
        "a.Distance,\n",
        "a.TaxiIn,\n",
        "a.TaxiOut,\n",
        "a.Cancelled,\n",
        "a.CancellationCode,\n",
        "a.Diverted,\n",
        "a.CarrierDelay,\n",
        "a.WeatherDelay,\n",
        "a.NASDelay,\n",
        "a.SecurityDelay,\n",
        "a.LateAircraftDelay from  delayed a \n",
        "  inner join lookup_city b\n",
        "    on a.Origin=b.airportCode\n",
        "  inner join lookup_city c\n",
        "    on a.Dest=c.airportCode\n",
        "  inner join lookup_geo geo\n",
        "on split(b.City,',')[0]=geo.name\n",
        "     and trim(split(b.City,',')[1])=geo.admin1_code\n",
        "  inner join lookup_geo geo_dest\n",
        "    on c.City=concat(geo_dest.name,', ',geo_dest.admin1_code)\n",
        ")\n",
        "select Origin, UniqueCarrier, Origin_City, Origin_latitude, Origin_Longitude, Dest_latitude, Dest_longitude, max(DepDelay) as delayed, avg(CarrierDelay) avgCarrierDelay \n",
        "from allColumns \n",
        "group by Origin, UniqueCarrier, Origin_City, Origin_latitude, Origin_Longitude, Dest_latitude, Dest_longitude\n",
        "\"\"\")"
      ],
      "execution_count": null,
      "outputs": []
    },
    {
      "cell_type": "code",
      "metadata": {
        "colab": {
          "base_uri": "https://localhost:8080/"
        },
        "id": "yUS0_fGcaqhI",
        "outputId": "b34e1681-3f11-4695-dd46-cf52f6203c7e"
      },
      "source": [
        "df1.show()"
      ],
      "execution_count": null,
      "outputs": [
        {
          "output_type": "stream",
          "text": [
            "+------+-------------+---------------+---------------+----------------+-------------+--------------+-------+------------------+\n",
            "|Origin|UniqueCarrier|    Origin_City|Origin_latitude|Origin_Longitude|Dest_latitude|Dest_longitude|delayed|   avgCarrierDelay|\n",
            "+------+-------------+---------------+---------------+----------------+-------------+--------------+-------+------------------+\n",
            "|   ATL|           EV|    Atlanta, GA|         33.749|       -84.38798|     31.31129|     -92.44514|   99.0| 28.81025641025641|\n",
            "|   ABQ|           DL|Albuquerque, NM|       35.08449|      -106.65114|       33.749|     -84.38798|   99.0|40.401869158878505|\n",
            "|   ATW|           EV|   Appleton, WI|       44.26193|       -88.41538|       33.749|     -84.38798|   99.0|30.546666666666667|\n",
            "|   BWI|           WN|  Baltimore, MD|       39.29038|       -76.61219|     30.26715|     -97.74306|   95.0|12.741935483870968|\n",
            "|   CAK|           EV|      Akron, OH|       41.08144|       -81.51901|       33.749|     -84.38798|   99.0|28.156941649899398|\n",
            "|   ATL|           OH|    Atlanta, GA|         33.749|       -84.38798|     30.26715|     -97.74306|   97.0| 40.42245989304813|\n",
            "|   CAK|           FL|      Akron, OH|       41.08144|       -81.51901|     42.35843|     -71.05977|   99.0|  2.63302752293578|\n",
            "|   AEX|           EV| Alexandria, LA|       31.31129|       -92.44514|       33.749|     -84.38798|   96.0|27.155778894472363|\n",
            "|   BMI|           FL|Bloomington, IL|        40.4842|       -88.99369|       33.749|     -84.38798|   98.0| 8.437158469945356|\n",
            "|   BOS|           OH|     Boston, MA|       42.35843|       -71.05977|     44.80118|     -68.77781|   95.0|18.462311557788944|\n",
            "|   ATL|           EV|    Atlanta, GA|         33.749|       -84.38798|     41.08144|     -81.51901|   99.0| 30.99437148217636|\n",
            "|   CAK|           DL|      Akron, OH|       41.08144|       -81.51901|       33.749|     -84.38798|    9.0| 27.91304347826087|\n",
            "|   ATL|           FL|    Atlanta, GA|         33.749|       -84.38798|     41.08144|     -81.51901|   99.0| 12.44890510948905|\n",
            "|   BOS|           FL|     Boston, MA|       42.35843|       -71.05977|     41.08144|     -81.51901|   99.0|1.0092592592592593|\n",
            "|   BHM|           EV| Birmingham, AL|       33.52066|       -86.80249|       33.749|     -84.38798|   96.0| 17.04794520547945|\n",
            "|   ATL|           DL|    Atlanta, GA|         33.749|       -84.38798|     35.08449|    -106.65114|   98.0|20.948275862068964|\n",
            "|   BRW|           AS|     Barrow, AK|       71.29058|      -156.78872|     61.21806|    -149.90028|   97.0| 4.483516483516484|\n",
            "|   ATL|           OO|    Atlanta, GA|         33.749|       -84.38798|     30.26715|     -97.74306|    6.0|              19.0|\n",
            "|   ASE|           OO|      Aspen, CO|        39.1911|      -106.81754|       33.749|     -84.38798|   82.0|               6.0|\n",
            "|   BWI|           EV|  Baltimore, MD|       39.29038|       -76.61219|       33.749|     -84.38798|   93.0|              15.5|\n",
            "+------+-------------+---------------+---------------+----------------+-------------+--------------+-------+------------------+\n",
            "only showing top 20 rows\n",
            "\n"
          ],
          "name": "stdout"
        }
      ]
    },
    {
      "cell_type": "code",
      "metadata": {
        "id": "XNZyGfoGe6eq"
      },
      "source": [
        "df1.write.parquet('parquet_title_basic',mode='overwrite')"
      ],
      "execution_count": null,
      "outputs": []
    },
    {
      "cell_type": "code",
      "metadata": {
        "id": "hdISaBfJe_0U"
      },
      "source": [
        "p_df=spark.read.parquet('parquet_title_basic')"
      ],
      "execution_count": null,
      "outputs": []
    },
    {
      "cell_type": "code",
      "metadata": {
        "id": "1AS17B95fZsn"
      },
      "source": [
        "p_df.createOrReplaceTempView('parquet_all')\n"
      ],
      "execution_count": null,
      "outputs": []
    },
    {
      "cell_type": "code",
      "metadata": {
        "colab": {
          "base_uri": "https://localhost:8080/"
        },
        "id": "BXgsT8mLfIfh",
        "outputId": "84a2c62f-4c1a-4eef-f0ea-d9c4376d8e08"
      },
      "source": [
        "start_time = time.time()\n",
        "spark.sql(\"\"\"\n",
        "select *\n",
        "from parquet_all\n",
        "\"\"\").show()\n",
        "print(\"--- %s seconds ---\" % (time.time() - start_time))"
      ],
      "execution_count": null,
      "outputs": [
        {
          "output_type": "stream",
          "text": [
            "+------+-------------+---------------+---------------+----------------+-------------+--------------+-------+------------------+\n",
            "|Origin|UniqueCarrier|    Origin_City|Origin_latitude|Origin_Longitude|Dest_latitude|Dest_longitude|delayed|   avgCarrierDelay|\n",
            "+------+-------------+---------------+---------------+----------------+-------------+--------------+-------+------------------+\n",
            "|   ABQ|           WN|Albuquerque, NM|       35.08449|      -106.65114|     39.29038|     -76.61219|   96.0| 9.567164179104477|\n",
            "|   ABQ|           XE|Albuquerque, NM|       35.08449|      -106.65114|     30.26715|     -97.74306|   95.0| 5.610169491525424|\n",
            "|   ABQ|           DL|Albuquerque, NM|       35.08449|      -106.65114|       33.749|     -84.38798|   99.0|40.401869158878505|\n",
            "|   ATW|           EV|   Appleton, WI|       44.26193|       -88.41538|       33.749|     -84.38798|   99.0|30.546666666666667|\n",
            "|   BWI|           WN|  Baltimore, MD|       39.29038|       -76.61219|     30.26715|     -97.74306|   95.0|12.741935483870968|\n",
            "|   CAK|           EV|      Akron, OH|       41.08144|       -81.51901|       33.749|     -84.38798|   99.0|28.156941649899398|\n",
            "|   BHM|           WN| Birmingham, AL|       33.52066|       -86.80249|     39.29038|     -76.61219|   99.0| 9.117647058823529|\n",
            "|   BWI|           WN|  Baltimore, MD|       39.29038|       -76.61219|     35.08449|    -106.65114|   94.0|19.317757009345794|\n",
            "|   ABQ|           XE|Albuquerque, NM|       35.08449|      -106.65114|       35.222|     -101.8313|   90.0|              11.0|\n",
            "|   ABQ|           WN|Albuquerque, NM|       35.08449|      -106.65114|       35.222|     -101.8313|   97.0|  8.59047619047619|\n",
            "|   BWI|           WN|  Baltimore, MD|       39.29038|       -76.61219|     42.65258|     -73.75623|   96.0|15.664160401002507|\n",
            "|   BTR|           OH|Baton Rouge, LA|       30.44332|       -91.18747|       33.749|     -84.38798|   94.0| 25.09090909090909|\n",
            "|   BHM|           9E| Birmingham, AL|       33.52066|       -86.80249|       33.749|     -84.38798|   99.0| 10.23076923076923|\n",
            "|   BHM|           DL| Birmingham, AL|       33.52066|       -86.80249|       33.749|     -84.38798|   95.0|29.373333333333335|\n",
            "|   BHM|           EV| Birmingham, AL|       33.52066|       -86.80249|       33.749|     -84.38798|   96.0| 17.04794520547945|\n",
            "|   ABE|           OH|  Allentown, PA|       40.60843|       -75.49018|       33.749|     -84.38798|   50.0|33.666666666666664|\n",
            "|   BWI|           OH|  Baltimore, MD|       39.29038|       -76.61219|       33.749|     -84.38798|   25.0|              10.0|\n",
            "|   BWI|           FL|  Baltimore, MD|       39.29038|       -76.61219|       33.749|     -84.38798|   99.0| 7.812064965197216|\n",
            "|   AUS|           XE|     Austin, TX|       30.26715|       -97.74306|     35.08449|    -106.65114|   92.0|21.203703703703702|\n",
            "|   BWI|           EV|  Baltimore, MD|       39.29038|       -76.61219|       33.749|     -84.38798|   93.0|              15.5|\n",
            "+------+-------------+---------------+---------------+----------------+-------------+--------------+-------+------------------+\n",
            "only showing top 20 rows\n",
            "\n",
            "--- 0.24672651290893555 seconds ---\n"
          ],
          "name": "stdout"
        }
      ]
    },
    {
      "cell_type": "code",
      "metadata": {
        "colab": {
          "base_uri": "https://localhost:8080/"
        },
        "id": "EyfNfBtYk-CM",
        "outputId": "b4c1235b-e957-4ec7-b2a9-c405e1601410"
      },
      "source": [
        "# run 2 after storing the data more appropriately and partitioning\n",
        "\n",
        "# Note the runtime\n",
        "start_time = time.time()\n",
        "\n",
        "spark.sql(\"\"\"\n",
        "with allColumns\n",
        "(select \n",
        "a.Year,\n",
        "a.Month,\n",
        "a.DayofMonth,\n",
        "a.DayOfWeek,\n",
        "a.DepTime,\n",
        "a.CRSDepTime,\n",
        "a.ArrTime,\n",
        "a.CRSArrTime,\n",
        "a.UniqueCarrier,\n",
        "a.FlightNum,\n",
        "a.TailNum,\n",
        "a.ActualElapsedTime,\n",
        "a.CRSElapsedTime,\n",
        "a.AirTime,\n",
        "a.ArrDelay,\n",
        "a.DepDelay,\n",
        "a.Origin,\n",
        "b.City as Origin_City,\n",
        "geo.latitude as Origin_latitude,\n",
        "geo.longitude as Origin_longitude,\n",
        "a.Dest,\n",
        "c.City as Dest_City,\n",
        "geo_dest.latitude as Dest_latitude,\n",
        "geo_dest.longitude as Dest_longitude,\n",
        "a.Distance,\n",
        "a.TaxiIn,\n",
        "a.TaxiOut,\n",
        "a.Cancelled,\n",
        "a.CancellationCode,\n",
        "a.Diverted,\n",
        "a.CarrierDelay,\n",
        "a.WeatherDelay,\n",
        "a.NASDelay,\n",
        "a.SecurityDelay,\n",
        "a.LateAircraftDelay from  delayed a \n",
        "  inner join lookup_city b\n",
        "    on a.Origin=b.airportCode\n",
        "  inner join lookup_city c\n",
        "    on a.Dest=c.airportCode\n",
        "  inner join lookup_geo geo\n",
        "on split(b.City,',')[0]=geo.name\n",
        "     and trim(split(b.City,',')[1])=geo.admin1_code\n",
        "  inner join lookup_geo geo_dest\n",
        "    on c.City=concat(geo_dest.name,', ',geo_dest.admin1_code)\n",
        ")\n",
        "select Origin, UniqueCarrier, Origin_City, Origin_latitude, Origin_Longitude, Dest_latitude, Dest_longitude, max(DepDelay) as delayed, avg(CarrierDelay) avgCarrierDelay \n",
        "from allColumns \n",
        "group by Origin, UniqueCarrier, Origin_City, Origin_latitude, Origin_Longitude, Dest_latitude, Dest_longitude\n",
        "\"\"\").show()\n",
        "\n",
        "print(\"--- %s seconds ---\" % (time.time() - start_time))"
      ],
      "execution_count": null,
      "outputs": [
        {
          "output_type": "stream",
          "text": [
            "+------+-------------+---------------+---------------+----------------+-------------+--------------+-------+------------------+\n",
            "|Origin|UniqueCarrier|    Origin_City|Origin_latitude|Origin_Longitude|Dest_latitude|Dest_longitude|delayed|   avgCarrierDelay|\n",
            "+------+-------------+---------------+---------------+----------------+-------------+--------------+-------+------------------+\n",
            "|   ATL|           EV|    Atlanta, GA|         33.749|       -84.38798|     31.31129|     -92.44514|   99.0| 28.81025641025641|\n",
            "|   ABQ|           DL|Albuquerque, NM|       35.08449|      -106.65114|       33.749|     -84.38798|   99.0|40.401869158878505|\n",
            "|   ATW|           EV|   Appleton, WI|       44.26193|       -88.41538|       33.749|     -84.38798|   99.0|30.546666666666667|\n",
            "|   BWI|           WN|  Baltimore, MD|       39.29038|       -76.61219|     30.26715|     -97.74306|   95.0|12.741935483870968|\n",
            "|   CAK|           EV|      Akron, OH|       41.08144|       -81.51901|       33.749|     -84.38798|   99.0|28.156941649899398|\n",
            "|   ATL|           OH|    Atlanta, GA|         33.749|       -84.38798|     30.26715|     -97.74306|   97.0| 40.42245989304813|\n",
            "|   CAK|           FL|      Akron, OH|       41.08144|       -81.51901|     42.35843|     -71.05977|   99.0|  2.63302752293578|\n",
            "|   AEX|           EV| Alexandria, LA|       31.31129|       -92.44514|       33.749|     -84.38798|   96.0|27.155778894472363|\n",
            "|   BMI|           FL|Bloomington, IL|        40.4842|       -88.99369|       33.749|     -84.38798|   98.0| 8.437158469945356|\n",
            "|   BOS|           OH|     Boston, MA|       42.35843|       -71.05977|     44.80118|     -68.77781|   95.0|18.462311557788944|\n",
            "|   ATL|           EV|    Atlanta, GA|         33.749|       -84.38798|     41.08144|     -81.51901|   99.0| 30.99437148217636|\n",
            "|   CAK|           DL|      Akron, OH|       41.08144|       -81.51901|       33.749|     -84.38798|    9.0| 27.91304347826087|\n",
            "|   ATL|           FL|    Atlanta, GA|         33.749|       -84.38798|     41.08144|     -81.51901|   99.0| 12.44890510948905|\n",
            "|   BOS|           FL|     Boston, MA|       42.35843|       -71.05977|     41.08144|     -81.51901|   99.0|1.0092592592592593|\n",
            "|   BHM|           EV| Birmingham, AL|       33.52066|       -86.80249|       33.749|     -84.38798|   96.0| 17.04794520547945|\n",
            "|   ATL|           DL|    Atlanta, GA|         33.749|       -84.38798|     35.08449|    -106.65114|   98.0|20.948275862068964|\n",
            "|   BRW|           AS|     Barrow, AK|       71.29058|      -156.78872|     61.21806|    -149.90028|   97.0| 4.483516483516484|\n",
            "|   ATL|           OO|    Atlanta, GA|         33.749|       -84.38798|     30.26715|     -97.74306|    6.0|              19.0|\n",
            "|   ASE|           OO|      Aspen, CO|        39.1911|      -106.81754|       33.749|     -84.38798|   82.0|               6.0|\n",
            "|   BWI|           EV|  Baltimore, MD|       39.29038|       -76.61219|       33.749|     -84.38798|   93.0|              15.5|\n",
            "+------+-------------+---------------+---------------+----------------+-------------+--------------+-------+------------------+\n",
            "only showing top 20 rows\n",
            "\n",
            "--- 10.049966096878052 seconds ---\n"
          ],
          "name": "stdout"
        }
      ]
    },
    {
      "cell_type": "code",
      "metadata": {
        "id": "mC0mkny9ffws"
      },
      "source": [
        "df1.write.partitionBy(\"UniqueCarrier\").mode(\"overwrite\").parquet(\"delayed_partitioned\")"
      ],
      "execution_count": null,
      "outputs": []
    },
    {
      "cell_type": "code",
      "metadata": {
        "id": "BT5xbe9dj6Eo"
      },
      "source": [
        "p_df_p=spark.read.parquet('delayed_partitioned')"
      ],
      "execution_count": null,
      "outputs": []
    },
    {
      "cell_type": "code",
      "metadata": {
        "id": "EB7yMTsrj-Zh"
      },
      "source": [
        "p_df_p.createOrReplaceTempView('p_delays_p')"
      ],
      "execution_count": null,
      "outputs": []
    },
    {
      "cell_type": "code",
      "metadata": {
        "colab": {
          "base_uri": "https://localhost:8080/"
        },
        "id": "fhyRhYCXkAWi",
        "outputId": "1bcaf9bd-9541-48b9-d5a9-234e6d29976a"
      },
      "source": [
        "start_time = time.time()\n",
        "spark.sql(\"\"\"\n",
        "select *\n",
        "from p_delays_p\n",
        "\"\"\").show()\n",
        "print(\"--- %s seconds ---\" % (time.time() - start_time))"
      ],
      "execution_count": null,
      "outputs": [
        {
          "output_type": "stream",
          "text": [
            "+------+---------------+---------------+----------------+-------------+--------------+-------+------------------+-------------+\n",
            "|Origin|    Origin_City|Origin_latitude|Origin_Longitude|Dest_latitude|Dest_longitude|delayed|   avgCarrierDelay|UniqueCarrier|\n",
            "+------+---------------+---------------+----------------+-------------+--------------+-------+------------------+-------------+\n",
            "|   ABQ|Albuquerque, NM|       35.08449|      -106.65114|     39.29038|     -76.61219|   96.0| 9.567164179104477|           WN|\n",
            "|   ABQ|Albuquerque, NM|       35.08449|      -106.65114|     30.26715|     -97.74306|   95.0| 5.610169491525424|           XE|\n",
            "|   ANC|  Anchorage, AK|       61.21806|      -149.90028|     60.79222|    -161.75583|   99.0|24.789473684210527|           AS|\n",
            "|   BHM| Birmingham, AL|       33.52066|       -86.80249|     39.29038|     -76.61219|   99.0| 9.117647058823529|           WN|\n",
            "|   BWI|  Baltimore, MD|       39.29038|       -76.61219|     35.08449|    -106.65114|   94.0|19.317757009345794|           WN|\n",
            "|   ABQ|Albuquerque, NM|       35.08449|      -106.65114|       35.222|     -101.8313|   97.0|  8.59047619047619|           WN|\n",
            "|   ABQ|Albuquerque, NM|       35.08449|      -106.65114|       35.222|     -101.8313|   90.0|              11.0|           XE|\n",
            "|   ABQ|Albuquerque, NM|       35.08449|      -106.65114|       33.749|     -84.38798|   99.0|40.401869158878505|           DL|\n",
            "|   BWI|  Baltimore, MD|       39.29038|       -76.61219|     42.35843|     -71.05977|   99.0|3.9488272921108742|           FL|\n",
            "|   BTR|Baton Rouge, LA|       30.44332|       -91.18747|       33.749|     -84.38798|   94.0| 25.09090909090909|           OH|\n",
            "|   BWI|  Baltimore, MD|       39.29038|       -76.61219|     42.35843|     -71.05977|   98.0| 27.13157894736842|           OH|\n",
            "|   BWI|  Baltimore, MD|       39.29038|       -76.61219|     30.26715|     -97.74306|   95.0|12.741935483870968|           WN|\n",
            "|   BWI|  Baltimore, MD|       39.29038|       -76.61219|     42.65258|     -73.75623|   96.0|15.664160401002507|           WN|\n",
            "|   BWI|  Baltimore, MD|       39.29038|       -76.61219|     33.52066|     -86.80249|   95.0|14.793103448275861|           WN|\n",
            "|   BTR|Baton Rouge, LA|       30.44332|       -91.18747|       33.749|     -84.38798|   99.0| 40.77906976744186|           EV|\n",
            "|   ATL|    Atlanta, GA|         33.749|       -84.38798|     30.26715|     -97.74306|   92.0| 35.49074074074074|           EV|\n",
            "|   ATL|    Atlanta, GA|         33.749|       -84.38798|     33.52066|     -86.80249|   95.0|           25.0125|           EV|\n",
            "|   BMI|Bloomington, IL|        40.4842|       -88.99369|       33.749|     -84.38798|   98.0| 8.437158469945356|           FL|\n",
            "|   BHM| Birmingham, AL|       33.52066|       -86.80249|       33.749|     -84.38798|   90.0|45.083333333333336|           OH|\n",
            "|   BHM| Birmingham, AL|       33.52066|       -86.80249|       33.749|     -84.38798|   99.0| 10.23076923076923|           9E|\n",
            "+------+---------------+---------------+----------------+-------------+--------------+-------+------------------+-------------+\n",
            "only showing top 20 rows\n",
            "\n",
            "--- 0.26497554779052734 seconds ---\n"
          ],
          "name": "stdout"
        }
      ]
    },
    {
      "cell_type": "code",
      "metadata": {
        "id": "josJpw5Hcuki"
      },
      "source": [
        "# Recall that the default shuffle partitions is 200.  We want to bring that down to a reasonable size for both our data and our Spark cluster\n",
        "# 4 is reasonable for a free Colab \n",
        "spark.conf.set(\"spark.sql.shuffle.partitions\", 4)"
      ],
      "execution_count": null,
      "outputs": []
    },
    {
      "cell_type": "code",
      "metadata": {
        "colab": {
          "base_uri": "https://localhost:8080/"
        },
        "id": "hyI7aq3wf6Zq",
        "outputId": "bc7679f1-9b24-440f-d877-b33686cb178f"
      },
      "source": [
        "df1.show()"
      ],
      "execution_count": null,
      "outputs": [
        {
          "output_type": "stream",
          "text": [
            "+------+-------------+-------------+---------------+----------------+-------------+--------------+-------+------------------+\n",
            "|Origin|UniqueCarrier|  Origin_City|Origin_latitude|Origin_Longitude|Dest_latitude|Dest_longitude|delayed|   avgCarrierDelay|\n",
            "+------+-------------+-------------+---------------+----------------+-------------+--------------+-------+------------------+\n",
            "|   ABE|           OO|Allentown, PA|       40.60843|       -75.49018|     33.52066|     -86.80249|   11.0|              null|\n",
            "|   ALB|           OH|   Albany, NY|       42.65258|       -73.75623|     42.35843|     -71.05977|   55.0|               0.0|\n",
            "|   ALB|           WN|   Albany, NY|       42.65258|       -73.75623|     39.29038|     -76.61219|   99.0| 8.203647416413373|\n",
            "|   ASE|           OO|    Aspen, CO|        39.1911|      -106.81754|       33.749|     -84.38798|   82.0|               6.0|\n",
            "|   ATL|           9E|  Atlanta, GA|         33.749|       -84.38798|     33.52066|     -86.80249|   94.0|15.083333333333334|\n",
            "|   ATL|           9E|  Atlanta, GA|         33.749|       -84.38798|     39.29038|     -76.61219|    6.0|              null|\n",
            "|   ATL|           DL|  Atlanta, GA|         33.749|       -84.38798|     30.26715|     -97.74306|   99.0| 20.12719298245614|\n",
            "|   ATL|           DL|  Atlanta, GA|         33.749|       -84.38798|     33.52066|     -86.80249|   98.0|            19.856|\n",
            "|   ATL|           DL|  Atlanta, GA|         33.749|       -84.38798|     41.08144|     -81.51901|    7.0| 17.11111111111111|\n",
            "|   ATL|           DL|  Atlanta, GA|         33.749|       -84.38798|     61.21806|    -149.90028|    9.0|             25.75|\n",
            "|   ATL|           EV|  Atlanta, GA|         33.749|       -84.38798|     39.29038|     -76.61219|   82.0|              17.6|\n",
            "|   ATL|           EV|  Atlanta, GA|         33.749|       -84.38798|     39.36415|     -74.42306|    9.0|  46.1578947368421|\n",
            "|   ATL|           EV|  Atlanta, GA|         33.749|       -84.38798|     41.08144|     -81.51901|   99.0| 30.99437148217636|\n",
            "|   ATL|           OH|  Atlanta, GA|         33.749|       -84.38798|     30.44332|     -91.18747|   82.0| 48.13333333333333|\n",
            "|   ATL|           OH|  Atlanta, GA|         33.749|       -84.38798|     40.60843|     -75.49018|    8.0|              16.5|\n",
            "|   ATL|           OO|  Atlanta, GA|         33.749|       -84.38798|     33.52066|     -86.80249|   31.0|               0.0|\n",
            "|   ATL|           OO|  Atlanta, GA|         33.749|       -84.38798|      39.1911|    -106.81754|   81.0|13.571428571428571|\n",
            "|   ATW|           OH| Appleton, WI|       44.26193|       -88.41538|       33.749|     -84.38798|   70.0|             46.25|\n",
            "|   AUS|           DL|   Austin, TX|       30.26715|       -97.74306|       33.749|     -84.38798|   96.0| 22.71904761904762|\n",
            "|   AUS|           OH|   Austin, TX|       30.26715|       -97.74306|       33.749|     -84.38798|   90.0|             43.64|\n",
            "+------+-------------+-------------+---------------+----------------+-------------+--------------+-------+------------------+\n",
            "only showing top 20 rows\n",
            "\n"
          ],
          "name": "stdout"
        }
      ]
    },
    {
      "cell_type": "code",
      "metadata": {
        "colab": {
          "base_uri": "https://localhost:8080/"
        },
        "id": "2wKpY62cfUvr",
        "outputId": "612ee0b1-52b4-44da-d5e1-99375e52e803"
      },
      "source": [
        "start_time = time.time()\n",
        "\n",
        "spark.sql(\"\"\"\n",
        "with allColumns\n",
        "(select \n",
        "a.Year,\n",
        "a.Month,\n",
        "a.DayofMonth,\n",
        "a.DayOfWeek,\n",
        "a.DepTime,\n",
        "a.CRSDepTime,\n",
        "a.ArrTime,\n",
        "a.CRSArrTime,\n",
        "a.UniqueCarrier,\n",
        "a.FlightNum,\n",
        "a.TailNum,\n",
        "a.ActualElapsedTime,\n",
        "a.CRSElapsedTime,\n",
        "a.AirTime,\n",
        "a.ArrDelay,\n",
        "a.DepDelay,\n",
        "a.Origin,\n",
        "b.City as Origin_City,\n",
        "geo.latitude as Origin_latitude,\n",
        "geo.longitude as Origin_longitude,\n",
        "a.Dest,\n",
        "c.City as Dest_City,\n",
        "geo_dest.latitude as Dest_latitude,\n",
        "geo_dest.longitude as Dest_longitude,\n",
        "a.Distance,\n",
        "a.TaxiIn,\n",
        "a.TaxiOut,\n",
        "a.Cancelled,\n",
        "a.CancellationCode,\n",
        "a.Diverted,\n",
        "a.CarrierDelay,\n",
        "a.WeatherDelay,\n",
        "a.NASDelay,\n",
        "a.SecurityDelay,\n",
        "a.LateAircraftDelay from  delayed a \n",
        "  inner join lookup_city b\n",
        "    on a.Origin=b.airportCode\n",
        "  inner join lookup_city c\n",
        "    on a.Dest=c.airportCode\n",
        "  inner join lookup_geo geo\n",
        "on split(b.City,',')[0]=geo.name\n",
        "     and trim(split(b.City,',')[1])=geo.admin1_code\n",
        "  inner join lookup_geo geo_dest\n",
        "    on c.City=concat(geo_dest.name,', ',geo_dest.admin1_code)\n",
        ")\n",
        "select Origin, UniqueCarrier, Origin_City, Origin_latitude, Origin_Longitude, Dest_latitude, Dest_longitude, max(DepDelay) as delayed, avg(CarrierDelay) avgCarrierDelay \n",
        "from allColumns \n",
        "group by Origin, UniqueCarrier, Origin_City, Origin_latitude, Origin_Longitude, Dest_latitude, Dest_longitude\n",
        "\"\"\").show()\n",
        "\n",
        "print(\"--- %s seconds ---\" % (time.time() - start_time))"
      ],
      "execution_count": null,
      "outputs": [
        {
          "output_type": "stream",
          "text": [
            "+------+-------------+-------------+---------------+----------------+-------------+--------------+-------+------------------+\n",
            "|Origin|UniqueCarrier|  Origin_City|Origin_latitude|Origin_Longitude|Dest_latitude|Dest_longitude|delayed|   avgCarrierDelay|\n",
            "+------+-------------+-------------+---------------+----------------+-------------+--------------+-------+------------------+\n",
            "|   ABE|           OO|Allentown, PA|       40.60843|       -75.49018|     33.52066|     -86.80249|   11.0|              null|\n",
            "|   ALB|           OH|   Albany, NY|       42.65258|       -73.75623|     42.35843|     -71.05977|   55.0|               0.0|\n",
            "|   ALB|           WN|   Albany, NY|       42.65258|       -73.75623|     39.29038|     -76.61219|   99.0| 8.203647416413373|\n",
            "|   ASE|           OO|    Aspen, CO|        39.1911|      -106.81754|       33.749|     -84.38798|   82.0|               6.0|\n",
            "|   ATL|           9E|  Atlanta, GA|         33.749|       -84.38798|     33.52066|     -86.80249|   94.0|15.083333333333334|\n",
            "|   ATL|           9E|  Atlanta, GA|         33.749|       -84.38798|     39.29038|     -76.61219|    6.0|              null|\n",
            "|   ATL|           DL|  Atlanta, GA|         33.749|       -84.38798|     30.26715|     -97.74306|   99.0| 20.12719298245614|\n",
            "|   ATL|           DL|  Atlanta, GA|         33.749|       -84.38798|     33.52066|     -86.80249|   98.0|            19.856|\n",
            "|   ATL|           DL|  Atlanta, GA|         33.749|       -84.38798|     41.08144|     -81.51901|    7.0| 17.11111111111111|\n",
            "|   ATL|           DL|  Atlanta, GA|         33.749|       -84.38798|     61.21806|    -149.90028|    9.0|             25.75|\n",
            "|   ATL|           EV|  Atlanta, GA|         33.749|       -84.38798|     39.29038|     -76.61219|   82.0|              17.6|\n",
            "|   ATL|           EV|  Atlanta, GA|         33.749|       -84.38798|     39.36415|     -74.42306|    9.0|  46.1578947368421|\n",
            "|   ATL|           EV|  Atlanta, GA|         33.749|       -84.38798|     41.08144|     -81.51901|   99.0| 30.99437148217636|\n",
            "|   ATL|           OH|  Atlanta, GA|         33.749|       -84.38798|     30.44332|     -91.18747|   82.0| 48.13333333333333|\n",
            "|   ATL|           OH|  Atlanta, GA|         33.749|       -84.38798|     40.60843|     -75.49018|    8.0|              16.5|\n",
            "|   ATL|           OO|  Atlanta, GA|         33.749|       -84.38798|     33.52066|     -86.80249|   31.0|               0.0|\n",
            "|   ATL|           OO|  Atlanta, GA|         33.749|       -84.38798|      39.1911|    -106.81754|   81.0|13.571428571428571|\n",
            "|   ATW|           OH| Appleton, WI|       44.26193|       -88.41538|       33.749|     -84.38798|   70.0|             46.25|\n",
            "|   AUS|           DL|   Austin, TX|       30.26715|       -97.74306|       33.749|     -84.38798|   96.0| 22.71904761904762|\n",
            "|   AUS|           OH|   Austin, TX|       30.26715|       -97.74306|       33.749|     -84.38798|   90.0|             43.64|\n",
            "+------+-------------+-------------+---------------+----------------+-------------+--------------+-------+------------------+\n",
            "only showing top 20 rows\n",
            "\n",
            "--- 9.945174217224121 seconds ---\n"
          ],
          "name": "stdout"
        }
      ]
    },
    {
      "cell_type": "code",
      "metadata": {
        "colab": {
          "base_uri": "https://localhost:8080/"
        },
        "id": "6Th2D6j2fmoz",
        "outputId": "a18883ee-5598-4eb7-ea13-790aac94012c"
      },
      "source": [
        "# cache your largest temporary view\n",
        "# Note: when we use SparkSQL to cache a table, the table is immediately cached (no lazy evaluation), when using Pyspark it will not be cached until an action is ran.\n",
        "\n",
        "spark.sql(\"cache table delayed\")"
      ],
      "execution_count": null,
      "outputs": [
        {
          "output_type": "execute_result",
          "data": {
            "text/plain": [
              "DataFrame[]"
            ]
          },
          "metadata": {
            "tags": []
          },
          "execution_count": 40
        }
      ]
    },
    {
      "cell_type": "code",
      "metadata": {
        "colab": {
          "base_uri": "https://localhost:8080/"
        },
        "id": "RJ3vrxQDkAgM",
        "outputId": "49c6c844-e0e1-47d4-bd61-8285bf28892d"
      },
      "source": [
        "spark.sql(\"cache table lookup_city\")"
      ],
      "execution_count": null,
      "outputs": [
        {
          "output_type": "execute_result",
          "data": {
            "text/plain": [
              "DataFrame[]"
            ]
          },
          "metadata": {
            "tags": []
          },
          "execution_count": 43
        }
      ]
    },
    {
      "cell_type": "code",
      "metadata": {
        "colab": {
          "base_uri": "https://localhost:8080/"
        },
        "id": "uXgNzNnZirRJ",
        "outputId": "2a66afd2-880e-488d-fc96-45a8d340687d"
      },
      "source": [
        "# check that your table is cached \n",
        "spark.catalog.isCached(\"delayed\")\n",
        "\n"
      ],
      "execution_count": null,
      "outputs": [
        {
          "output_type": "execute_result",
          "data": {
            "text/plain": [
              "True"
            ]
          },
          "metadata": {
            "tags": []
          },
          "execution_count": 44
        }
      ]
    },
    {
      "cell_type": "code",
      "metadata": {
        "colab": {
          "base_uri": "https://localhost:8080/"
        },
        "id": "RSfyB0dXkIST",
        "outputId": "3dbfed91-7dae-4db1-bbe2-408778b3d5ff"
      },
      "source": [
        "spark.catalog.isCached(\"lookup_city\")\n"
      ],
      "execution_count": null,
      "outputs": [
        {
          "output_type": "execute_result",
          "data": {
            "text/plain": [
              "True"
            ]
          },
          "metadata": {
            "tags": []
          },
          "execution_count": 45
        }
      ]
    },
    {
      "cell_type": "code",
      "metadata": {
        "colab": {
          "base_uri": "https://localhost:8080/"
        },
        "id": "JC8x6m9Mi5Fk",
        "outputId": "713eddb3-3d3c-4259-9db9-b728c4b51614"
      },
      "source": [
        "# Run 4 - after caching driver table\n",
        "# Note the runtime\n",
        "start_time = time.time()\n",
        "\n",
        "spark.sql(\"\"\"\n",
        "with allColumns\n",
        "(select \n",
        "a.Year,\n",
        "a.Month,\n",
        "a.DayofMonth,\n",
        "a.DayOfWeek,\n",
        "a.DepTime,\n",
        "a.CRSDepTime,\n",
        "a.ArrTime,\n",
        "a.CRSArrTime,\n",
        "a.UniqueCarrier,\n",
        "a.FlightNum,\n",
        "a.TailNum,\n",
        "a.ActualElapsedTime,\n",
        "a.CRSElapsedTime,\n",
        "a.AirTime,\n",
        "a.ArrDelay,\n",
        "a.DepDelay,\n",
        "a.Origin,\n",
        "b.City as Origin_City,\n",
        "geo.latitude as Origin_latitude,\n",
        "geo.longitude as Origin_longitude,\n",
        "a.Dest,\n",
        "c.City as Dest_City,\n",
        "geo_dest.latitude as Dest_latitude,\n",
        "geo_dest.longitude as Dest_longitude,\n",
        "a.Distance,\n",
        "a.TaxiIn,\n",
        "a.TaxiOut,\n",
        "a.Cancelled,\n",
        "a.CancellationCode,\n",
        "a.Diverted,\n",
        "a.CarrierDelay,\n",
        "a.WeatherDelay,\n",
        "a.NASDelay,\n",
        "a.SecurityDelay,\n",
        "a.LateAircraftDelay from  delayed a \n",
        "  inner join lookup_city b\n",
        "    on a.Origin=b.airportCode\n",
        "  inner join lookup_city c\n",
        "    on a.Dest=c.airportCode\n",
        "  inner join lookup_geo geo\n",
        "on split(b.City,',')[0]=geo.name\n",
        "     and trim(split(b.City,',')[1])=geo.admin1_code\n",
        "  inner join lookup_geo geo_dest\n",
        "    on c.City=concat(geo_dest.name,', ',geo_dest.admin1_code)\n",
        ")\n",
        "select Origin, UniqueCarrier, Origin_City, Origin_latitude, Origin_Longitude, Dest_latitude, Dest_longitude, max(DepDelay) as delayed, avg(CarrierDelay) avgCarrierDelay \n",
        "from allColumns \n",
        "group by Origin, UniqueCarrier, Origin_City, Origin_latitude, Origin_Longitude, Dest_latitude, Dest_longitude\n",
        "\"\"\").show()\n",
        "\n",
        "print(\"--- %s seconds ---\" % (time.time() - start_time))"
      ],
      "execution_count": null,
      "outputs": [
        {
          "output_type": "stream",
          "text": [
            "+------+-------------+-------------+---------------+----------------+-------------+--------------+-------+------------------+\n",
            "|Origin|UniqueCarrier|  Origin_City|Origin_latitude|Origin_Longitude|Dest_latitude|Dest_longitude|delayed|   avgCarrierDelay|\n",
            "+------+-------------+-------------+---------------+----------------+-------------+--------------+-------+------------------+\n",
            "|   ABE|           OO|Allentown, PA|       40.60843|       -75.49018|     33.52066|     -86.80249|   11.0|              null|\n",
            "|   ALB|           OH|   Albany, NY|       42.65258|       -73.75623|     42.35843|     -71.05977|   55.0|               0.0|\n",
            "|   ALB|           WN|   Albany, NY|       42.65258|       -73.75623|     39.29038|     -76.61219|   99.0| 8.203647416413373|\n",
            "|   ASE|           OO|    Aspen, CO|        39.1911|      -106.81754|       33.749|     -84.38798|   82.0|               6.0|\n",
            "|   ATL|           9E|  Atlanta, GA|         33.749|       -84.38798|     33.52066|     -86.80249|   94.0|15.083333333333334|\n",
            "|   ATL|           9E|  Atlanta, GA|         33.749|       -84.38798|     39.29038|     -76.61219|    6.0|              null|\n",
            "|   ATL|           DL|  Atlanta, GA|         33.749|       -84.38798|     30.26715|     -97.74306|   99.0| 20.12719298245614|\n",
            "|   ATL|           DL|  Atlanta, GA|         33.749|       -84.38798|     33.52066|     -86.80249|   98.0|            19.856|\n",
            "|   ATL|           DL|  Atlanta, GA|         33.749|       -84.38798|     41.08144|     -81.51901|    7.0| 17.11111111111111|\n",
            "|   ATL|           DL|  Atlanta, GA|         33.749|       -84.38798|     61.21806|    -149.90028|    9.0|             25.75|\n",
            "|   ATL|           EV|  Atlanta, GA|         33.749|       -84.38798|     39.29038|     -76.61219|   82.0|              17.6|\n",
            "|   ATL|           EV|  Atlanta, GA|         33.749|       -84.38798|     39.36415|     -74.42306|    9.0|  46.1578947368421|\n",
            "|   ATL|           EV|  Atlanta, GA|         33.749|       -84.38798|     41.08144|     -81.51901|   99.0| 30.99437148217636|\n",
            "|   ATL|           OH|  Atlanta, GA|         33.749|       -84.38798|     30.44332|     -91.18747|   82.0| 48.13333333333333|\n",
            "|   ATL|           OH|  Atlanta, GA|         33.749|       -84.38798|     40.60843|     -75.49018|    8.0|              16.5|\n",
            "|   ATL|           OO|  Atlanta, GA|         33.749|       -84.38798|     33.52066|     -86.80249|   31.0|               0.0|\n",
            "|   ATL|           OO|  Atlanta, GA|         33.749|       -84.38798|      39.1911|    -106.81754|   81.0|13.571428571428571|\n",
            "|   ATW|           OH| Appleton, WI|       44.26193|       -88.41538|       33.749|     -84.38798|   70.0|             46.25|\n",
            "|   AUS|           DL|   Austin, TX|       30.26715|       -97.74306|       33.749|     -84.38798|   96.0| 22.71904761904762|\n",
            "|   AUS|           OH|   Austin, TX|       30.26715|       -97.74306|       33.749|     -84.38798|   90.0|             43.64|\n",
            "+------+-------------+-------------+---------------+----------------+-------------+--------------+-------+------------------+\n",
            "only showing top 20 rows\n",
            "\n",
            "--- 5.6620752811431885 seconds ---\n"
          ],
          "name": "stdout"
        }
      ]
    },
    {
      "cell_type": "code",
      "metadata": {
        "id": "ALAEppnMjBCy"
      },
      "source": [
        "#recreate the dataframes selecting only the columns you need, filtering the data before creating the view, then caching the views.\n",
        "# columns needed are 'UniqueCarrier','DepDelay','Origin','CarrierDelay','Dest' from the main table\n",
        "df_clean = df[['UniqueCarrier','DepDelay','Origin','CarrierDelay','Dest']]\n"
      ],
      "execution_count": null,
      "outputs": []
    },
    {
      "cell_type": "code",
      "metadata": {
        "id": "28R9w7tYmEy2"
      },
      "source": [
        "# filter the df_lookup_city data prior to creating the view to only contain USA data\n",
        "usa_look_up_cities = spark.sql(\"\"\"SELECT * from lookup_city where Country = 'USA' \"\"\")"
      ],
      "execution_count": null,
      "outputs": []
    },
    {
      "cell_type": "code",
      "metadata": {
        "id": "Yli4aqN3mhJA"
      },
      "source": [
        "# filter the df_lookup_geo data prior to creating the view to only contain US data and select only the columns you need to perform the lookup\n",
        "# fields from geo ('name','latitude','longitude','admin1_code')\n",
        "usa_look_up_geo = spark.sql(\"\"\"SELECT name,\n",
        "              latitude,\n",
        "              longitude,\n",
        "              admin1_code,\n",
        "              country_code\n",
        "              from lookup_geo where country_code = 'US' \"\"\")"
      ],
      "execution_count": null,
      "outputs": []
    },
    {
      "cell_type": "code",
      "metadata": {
        "id": "WVjvDmD2oByV",
        "colab": {
          "base_uri": "https://localhost:8080/"
        },
        "outputId": "05087c74-c9dd-423e-cf40-fc1f1ff79745"
      },
      "source": [
        "usa_look_up_cities.createOrReplaceTempView('lookup_city')\n",
        "usa_look_up_geo.createOrReplaceTempView('lookup_geo')\n",
        "df_clean.createOrReplaceTempView('delayed')\n",
        "spark.sql(\"cache table delayed\")\n",
        "spark.sql(\"cache table lookup_geo\")"
      ],
      "execution_count": 67,
      "outputs": [
        {
          "output_type": "execute_result",
          "data": {
            "text/plain": [
              "DataFrame[]"
            ]
          },
          "metadata": {
            "tags": []
          },
          "execution_count": 67
        }
      ]
    },
    {
      "cell_type": "code",
      "metadata": {
        "colab": {
          "base_uri": "https://localhost:8080/"
        },
        "id": "hHXJwIPPuBDN",
        "outputId": "bfef4ac3-3947-4657-cefb-7d8452a14858"
      },
      "source": [
        "spark.sql(\"\"\" SELECT  * from delayed a\n",
        "              inner join lookup_city b\n",
        "               on a.Origin=b.airportCode\n",
        "               \"\"\").show()\n"
      ],
      "execution_count": 107,
      "outputs": [
        {
          "output_type": "stream",
          "text": [
            "+-------------+--------+------+------------+----+---------------+-------+-----------+\n",
            "|UniqueCarrier|DepDelay|Origin|CarrierDelay|Dest|           City|country|airportCode|\n",
            "+-------------+--------+------+------------+----+---------------+-------+-----------+\n",
            "|           WN|    78.0|   ABQ|         0.0| AMA|Albuquerque, NM|    USA|        ABQ|\n",
            "|           WN|     9.0|   ABQ|        null| DAL|Albuquerque, NM|    USA|        ABQ|\n",
            "|           WN|   108.0|   ABQ|         1.0| DAL|Albuquerque, NM|    USA|        ABQ|\n",
            "|           WN|     7.0|   ABQ|        null| DAL|Albuquerque, NM|    USA|        ABQ|\n",
            "|           WN|    30.0|   ABQ|        12.0| DAL|Albuquerque, NM|    USA|        ABQ|\n",
            "|           WN|    27.0|   ABQ|         3.0| DAL|Albuquerque, NM|    USA|        ABQ|\n",
            "|           WN|    72.0|   ABQ|         2.0| DEN|Albuquerque, NM|    USA|        ABQ|\n",
            "|           WN|    15.0|   ABQ|        null| DEN|Albuquerque, NM|    USA|        ABQ|\n",
            "|           WN|    46.0|   ABQ|         2.0| HOU|Albuquerque, NM|    USA|        ABQ|\n",
            "|           WN|    27.0|   ABQ|        20.0| LAS|Albuquerque, NM|    USA|        ABQ|\n",
            "|           WN|    20.0|   ABQ|         9.0| LAS|Albuquerque, NM|    USA|        ABQ|\n",
            "|           WN|    55.0|   ABQ|         0.0| LAS|Albuquerque, NM|    USA|        ABQ|\n",
            "|           WN|    47.0|   ABQ|         0.0| LAS|Albuquerque, NM|    USA|        ABQ|\n",
            "|           WN|     8.0|   ABQ|        null| LAX|Albuquerque, NM|    USA|        ABQ|\n",
            "|           WN|    45.0|   ABQ|        34.0| LAX|Albuquerque, NM|    USA|        ABQ|\n",
            "|           WN|    56.0|   ABQ|         0.0| LAX|Albuquerque, NM|    USA|        ABQ|\n",
            "|           WN|    37.0|   ABQ|         8.0| LBB|Albuquerque, NM|    USA|        ABQ|\n",
            "|           WN|     7.0|   ABQ|        null| MAF|Albuquerque, NM|    USA|        ABQ|\n",
            "|           WN|    76.0|   ABQ|         0.0| MCI|Albuquerque, NM|    USA|        ABQ|\n",
            "|           WN|    15.0|   ABQ|        12.0| MCO|Albuquerque, NM|    USA|        ABQ|\n",
            "+-------------+--------+------+------------+----+---------------+-------+-----------+\n",
            "only showing top 20 rows\n",
            "\n"
          ],
          "name": "stdout"
        }
      ]
    },
    {
      "cell_type": "code",
      "metadata": {
        "colab": {
          "base_uri": "https://localhost:8080/"
        },
        "id": "pGqPSrPduSSq",
        "outputId": "3576d2bd-1190-4550-83e0-c92923de132e"
      },
      "source": [
        "start_time = time.time()\n",
        "\n",
        "spark.sql(\"\"\"\n",
        "with allColumns\n",
        "(select \n",
        "a.UniqueCarrier,\n",
        "a.DepDelay,\n",
        "a.Origin,\n",
        "b.City as Origin_City,\n",
        "geo.latitude as Origin_latitude,\n",
        "geo.longitude as Origin_longitude,\n",
        "a.Dest,\n",
        "b.City as Dest_City,\n",
        "geo.latitude as Dest_latitude,\n",
        "geo.longitude as Dest_longitude,\n",
        "a.CarrierDelay\n",
        "     from  delayed a \n",
        "     inner join lookup_city b\n",
        "    on a.Origin=b.airportCode\n",
        "    inner join lookup_city c\n",
        "    on a.Dest=c.airportCode\n",
        "  inner join lookup_geo geo\n",
        "on split(b.City,',')[0]=geo.name\n",
        "     and trim(split(b.City,',')[1])=geo.admin1_code\n",
        "  inner join lookup_geo geo_dest\n",
        "    on c.City=concat(geo_dest.name,', ',geo_dest.admin1_code))\n",
        "    select Origin, UniqueCarrier, Origin_City, Origin_latitude, Origin_Longitude, Dest_latitude, Dest_longitude, max(DepDelay) as delayed, avg(CarrierDelay) avgCarrierDelay \n",
        "from allColumns \n",
        "group by Origin, UniqueCarrier, Origin_City, Origin_latitude, Origin_Longitude, Dest_latitude, Dest_longitude\n",
        "  \"\"\").show()\n",
        "\n",
        "\n",
        "print(\"--- %s seconds ---\" % (time.time() - start_time))"
      ],
      "execution_count": 115,
      "outputs": [
        {
          "output_type": "stream",
          "text": [
            "+------+-------------+---------------+---------------+----------------+-------------+--------------+-------+------------------+\n",
            "|Origin|UniqueCarrier|    Origin_City|Origin_latitude|Origin_Longitude|Dest_latitude|Dest_longitude|delayed|   avgCarrierDelay|\n",
            "+------+-------------+---------------+---------------+----------------+-------------+--------------+-------+------------------+\n",
            "|   ABE|           EV|  Allentown, PA|       40.60843|       -75.49018|     40.60843|     -75.49018|   96.0|  31.4527027027027|\n",
            "|   ABE|           OH|  Allentown, PA|       40.60843|       -75.49018|     40.60843|     -75.49018|   50.0|33.666666666666664|\n",
            "|   ABE|           OO|  Allentown, PA|       40.60843|       -75.49018|     40.60843|     -75.49018|   11.0|              null|\n",
            "|   ABY|           EV|     Albany, GA|       31.57851|       -84.15574|     31.57851|     -84.15574|   97.0|  26.4811320754717|\n",
            "|   AEX|           EV| Alexandria, LA|       31.31129|       -92.44514|     31.31129|     -92.44514|   96.0|27.155778894472363|\n",
            "|   AGS|           EV|    Augusta, GA|       33.47097|       -81.97484|     33.47097|     -81.97484|   98.0|26.899313501144164|\n",
            "|   ANC|           AS|  Anchorage, AK|       61.21806|      -149.90028|     61.21806|    -149.90028|   99.0|24.789473684210527|\n",
            "|   ATL|           EV|    Atlanta, GA|         33.749|       -84.38798|       33.749|     -84.38798|   99.0|31.010087946197622|\n",
            "|   ATL|           FL|    Atlanta, GA|         33.749|       -84.38798|       33.749|     -84.38798|   99.0|11.106535947712418|\n",
            "|   AUS|           DL|     Austin, TX|       30.26715|       -97.74306|     30.26715|     -97.74306|   96.0| 22.71904761904762|\n",
            "|   AUS|           OH|     Austin, TX|       30.26715|       -97.74306|     30.26715|     -97.74306|   90.0|             43.64|\n",
            "|   AVL|           EV|  Asheville, NC|       35.60095|       -82.55402|     35.60095|     -82.55402|   97.0|31.566101694915254|\n",
            "|   BHM|           EV| Birmingham, AL|       33.52066|       -86.80249|     33.52066|     -86.80249|   96.0| 17.04794520547945|\n",
            "|   BHM|           OH| Birmingham, AL|       33.52066|       -86.80249|     33.52066|     -86.80249|   90.0| 41.61538461538461|\n",
            "|   BMI|           EV|Bloomington, IL|        40.4842|       -88.99369|      40.4842|     -88.99369|   98.0|30.361216730038024|\n",
            "|   BOS|           OH|     Boston, MA|       42.35843|       -71.05977|     42.35843|     -71.05977|   95.0|  25.0506993006993|\n",
            "|   BTR|           OH|Baton Rouge, LA|       30.44332|       -91.18747|     30.44332|     -91.18747|   94.0| 25.09090909090909|\n",
            "|   CAK|           FL|      Akron, OH|       41.08144|       -81.51901|     41.08144|     -81.51901|   99.0| 7.527932960893855|\n",
            "|   ABQ|           WN|Albuquerque, NM|       35.08449|      -106.65114|     35.08449|    -106.65114|   97.0| 8.970930232558139|\n",
            "|   ABQ|           XE|Albuquerque, NM|       35.08449|      -106.65114|     35.08449|    -106.65114|   95.0|               5.7|\n",
            "+------+-------------+---------------+---------------+----------------+-------------+--------------+-------+------------------+\n",
            "only showing top 20 rows\n",
            "\n",
            "--- 2.526779890060425 seconds ---\n"
          ],
          "name": "stdout"
        }
      ]
    },
    {
      "cell_type": "code",
      "metadata": {
        "colab": {
          "base_uri": "https://localhost:8080/"
        },
        "id": "nUuKWeuYC0Z1",
        "outputId": "6e92a751-ca48-416f-8c17-8a25775892a2"
      },
      "source": [
        "spark.sql(\"uncache table delayed\")\n",
        "spark.sql(\"uncache table lookup_geo\")\n",
        "\n"
      ],
      "execution_count": 117,
      "outputs": [
        {
          "output_type": "execute_result",
          "data": {
            "text/plain": [
              "DataFrame[]"
            ]
          },
          "metadata": {
            "tags": []
          },
          "execution_count": 117
        }
      ]
    },
    {
      "cell_type": "code",
      "metadata": {
        "colab": {
          "base_uri": "https://localhost:8080/"
        },
        "id": "8xGP1vo3NnPv",
        "outputId": "d3441543-4d57-4282-aee5-377b80876b51"
      },
      "source": [
        "#Verify that the table is no longer cached\n",
        "if spark.catalog.isCached(\"delayed\") or spark.catalog.isCached(\"lookup_geo\"):\n",
        "  print(\"a table is till cached\")\n",
        "else:\n",
        "  print(\"all clear\")"
      ],
      "execution_count": 118,
      "outputs": [
        {
          "output_type": "stream",
          "text": [
            "all clear\n"
          ],
          "name": "stdout"
        }
      ]
    },
    {
      "cell_type": "code",
      "metadata": {
        "id": "v8ZN54gZNujr"
      },
      "source": [
        ""
      ],
      "execution_count": null,
      "outputs": []
    }
  ]
}