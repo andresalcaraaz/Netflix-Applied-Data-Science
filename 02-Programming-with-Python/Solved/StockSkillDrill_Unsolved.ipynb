{
 "cells": [
  {
   "cell_type": "code",
   "execution_count": 17,
   "metadata": {},
   "outputs": [],
   "source": [
    "# Import the 'os' and 'csv' libraries\n",
    "import os\n",
    "import csv"
   ]
  },
  {
   "cell_type": "code",
   "execution_count": 18,
   "metadata": {},
   "outputs": [],
   "source": [
    "# Set path for importing our CSV file\n",
    "csvpath = os.path.join('..','Resources', 'yahoo_stock.csv')"
   ]
  },
  {
   "cell_type": "code",
   "execution_count": 59,
   "metadata": {},
   "outputs": [
    {
     "name": "stdout",
     "output_type": "stream",
     "text": [
      "['3/13/2020', '2711.330078', '2492.370117', '2569.98999', '2711.02002', '8258670000', '2711.02002']\n"
     ]
    }
   ],
   "source": [
    "# Open a connection to the comma-delimited csv file \n",
    "with open(csvpath) as csvfile:\n",
    "    csvreader = csv.reader(csvfile, delimiter=',')\n",
    "\n",
    "    # Read in the CSV file using csv.DictReader() class\n",
    "    next(csvreader)\n",
    "    \n",
    "    # Create a variable to save our print row and greatest daily percent change\n",
    "    max_avg = 0\n",
    "    max_row ={}\n",
    "    \n",
    "    # Iterate through each row\n",
    "    for row in csvreader:\n",
    "        closing = float(row[4])\n",
    "        open_p = float(row[3])\n",
    "        \n",
    "        # For each row, calculate the daily percent change\n",
    "        change = ((closing-open_p)/open_p)*100\n",
    "        \n",
    "        # Check if the absolute daily percent change is greater than the previous max\n",
    "        if change > max_avg:\n",
    "           \n",
    "            # If true, store new greatest daily percent change and print row\n",
    "            max_avg = change\n",
    "            max_row = row\n",
    "    # Print out the date, stock high, stock low, volume and percent change for the day with the greatest percent change\n",
    "    print(max_row)"
   ]
  },
  {
   "cell_type": "code",
   "execution_count": null,
   "metadata": {},
   "outputs": [],
   "source": [
    "\n",
    " "
   ]
  },
  {
   "cell_type": "code",
   "execution_count": null,
   "metadata": {},
   "outputs": [],
   "source": []
  },
  {
   "cell_type": "code",
   "execution_count": null,
   "metadata": {},
   "outputs": [],
   "source": []
  }
 ],
 "metadata": {
  "kernelspec": {
   "display_name": "Python 3",
   "language": "python",
   "name": "python3"
  },
  "language_info": {
   "codemirror_mode": {
    "name": "ipython",
    "version": 3
   },
   "file_extension": ".py",
   "mimetype": "text/x-python",
   "name": "python",
   "nbconvert_exporter": "python",
   "pygments_lexer": "ipython3",
   "version": "3.8.5"
  }
 },
 "nbformat": 4,
 "nbformat_minor": 4
}
